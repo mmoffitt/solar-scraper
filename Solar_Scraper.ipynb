{
  "nbformat": 4,
  "nbformat_minor": 0,
  "metadata": {
    "colab": {
      "name": "Solar Scraper",
      "provenance": [],
      "collapsed_sections": [
        "QuyHMep-2Qn5"
      ],
      "private_outputs": true,
      "authorship_tag": "ABX9TyMwr6JS9BbdibeXW5IA536h",
      "include_colab_link": true
    },
    "kernelspec": {
      "name": "python3",
      "display_name": "Python 3"
    },
    "language_info": {
      "name": "python"
    }
  },
  "cells": [
    {
      "cell_type": "markdown",
      "metadata": {
        "id": "view-in-github",
        "colab_type": "text"
      },
      "source": [
        "<a href=\"https://colab.research.google.com/github/mmoffitt/solar-scraper/blob/main/Solar_Scraper.ipynb\" target=\"_parent\"><img src=\"https://colab.research.google.com/assets/colab-badge.svg\" alt=\"Open In Colab\"/></a>"
      ]
    },
    {
      "cell_type": "markdown",
      "source": [
        "# Solar Scraper\n",
        "\n",
        "A tool for extracting the energy usage data from the PDF of one or more Austin Energy bills.\n",
        "\n",
        "To use, select **Runtime >> Run all** from the above menu."
      ],
      "metadata": {
        "id": "Z6051YJlR_17"
      }
    },
    {
      "cell_type": "markdown",
      "source": [
        "## Setup (takes ~10 seconds)"
      ],
      "metadata": {
        "id": "QuyHMep-2Qn5"
      }
    },
    {
      "cell_type": "code",
      "execution_count": null,
      "metadata": {
        "id": "_PTjjSArR9U7"
      },
      "outputs": [],
      "source": [
        "!apt-get install poppler-utils \n",
        "!pip install pdf2image\n",
        "\n",
        "%matplotlib inline\n",
        "\n",
        "import matplotlib.pyplot as plt\n",
        "from google.colab import files\n",
        "from pdf2image import convert_from_path\n",
        "\n",
        "def go():\n",
        "  uploaded = files.upload()\n",
        "  for fn in uploaded.keys():\n",
        "    image = convert_from_path(fn)[1].crop((80, 250, 570, 510))\n",
        "    print(\"\\nFrom PDF:\")\n",
        "    display(image)\n",
        "    kwhs = []\n",
        "    for month in range(0, 13):\n",
        "      for height in range(0, 225):\n",
        "        r, g, b = image.getpixel((month * 29 + 80, 224 - height))\n",
        "        if r < 50: continue\n",
        "        kwhs.append(height * 23.6)\n",
        "        break\n",
        "    print(\"\\nExtracted:\")\n",
        "    plt.bar(range(0, 13), kwhs)\n",
        "    plt.plot()\n",
        "    plt.show()\n",
        "    print(\"Values:\")\n",
        "    [print(\"  Month %2d: %7.2f kWh\" % (idx, kwh)) for (idx, kwh) in enumerate(kwhs)]"
      ]
    },
    {
      "cell_type": "markdown",
      "source": [
        "## Upload the Austin Energy Bill as a PDF file"
      ],
      "metadata": {
        "id": "--EFoq-_2VDR"
      }
    },
    {
      "cell_type": "code",
      "source": [
        "go()"
      ],
      "metadata": {
        "id": "0qQiubbK2Kfy"
      },
      "execution_count": null,
      "outputs": []
    }
  ]
}